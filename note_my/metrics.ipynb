{
 "cells": [
  {
   "cell_type": "code",
   "execution_count": 3,
   "metadata": {},
   "outputs": [
    {
     "name": "stdout",
     "output_type": "stream",
     "text": [
      "Command Output for berry_bowl and shareTI_text_0.01_L-priorloss:\n",
      "FID:  71.8008790407115\n",
      "\n",
      "Command Output for shiny_sneaker and shareTI_text_0.01_L-priorloss:\n",
      "FID:  44.57244770917319\n",
      "\n",
      "Command Output for backpack and shareTI_text_0.01_L-priorloss:\n",
      "FID:  52.40859186322817\n",
      "\n",
      "Command Output for cat and shareTI_text_0.01_L-priorloss:\n",
      "FID:  60.34613230049047\n",
      "\n",
      "Command Output for can and shareTI_text_0.01_L-priorloss:\n",
      "FID:  60.533241993997194\n",
      "\n",
      "Command Output for robot_toy and shareTI_text_0.01_L-priorloss:\n",
      "FID:  59.80161880845304\n",
      "\n",
      "Command Output for dog and shareTI_text_0.01_L-priorloss:\n",
      "\n"
     ]
    }
   ],
   "source": [
    "import subprocess\n",
    "import sys\n",
    "import os\n",
    "sys.path.append('/data/zhicai/code/Text-regularized-customization/')\n",
    "from base.utils import parse_templates_class_name, DEBUG_DIRS\n",
    "sys.path.append(os.getcwd())\n",
    "\n",
    "experiment_types = ['shareTI_text_0.01_norm_0.01', \n",
    "                    'shareTI_text_0.01_G-ewc_0.01',\n",
    "                    'shareTI_text_0.01_L-ewc_0.01',\n",
    "                    'shareTI_text_0.01_L-priorloss']\n",
    "    # 要运行的Shell命令\n",
    "for data_dir_name in DEBUG_DIRS:\n",
    "    _, class_name = parse_templates_class_name(data_dir_name)\n",
    "\n",
    "    dir2_template ='/data/zhicai/code/Text-regularized-customization/outputs/debug/sample/{}/{}/decay_lr_5e-4_gas_4/lora_weight_s2000/class'\n",
    "                \n",
    "    dir1_template = '/data/zhicai/code/Text-regularized-customization/dataset/sample/{}'\n",
    "    for experiment_type in experiment_types:\n",
    "        dir2 = dir2_template.format(data_dir_name,experiment_type)    \n",
    "        dir1 = dir1_template.format(class_name)\n",
    "        shell_command = f\"python -m pytorch_fid {dir1} {dir2} --device cuda:2\"\n",
    "\n",
    "        # 使用subprocess运行Shell命令\n",
    "        result = subprocess.run(shell_command, shell=True, stdout=subprocess.PIPE, stderr=subprocess.PIPE, text=True)\n",
    "\n",
    "        # 打印命令的标准输出\n",
    "        print(f\"Command Output for {data_dir_name} and {experiment_type}:\")\n",
    "        print(result.stdout)\n",
    "\n",
    "    # # 打印命令的标准错误输出\n",
    "    # print(\"Command Error:\")\n",
    "    # print(result.stderr)\n",
    "\n",
    "    # 打印命令的返回值\n",
    "    # print(\"Exit Code:\", result.returncode)\n"
   ]
  },
  {
   "cell_type": "code",
   "execution_count": 3,
   "metadata": {},
   "outputs": [],
   "source": [
    "import subprocess\n",
    "import sys\n",
    "import os\n",
    "sys.path.append('/data/zhicai/code/Text-regularized-customization/')\n",
    "from base.utils import parse_templates_class_name, DEBUG_DIRS\n",
    "sys.path.append(os.getcwd())\n",
    "\n",
    "experiment_types = ['shareTI_text_0.01_norm_0.01', 'shareTI_text_0.01_G-ewc_0.01','shareTI_text_0.01_L-ewc_0.01','shareTI_text_0.01_L-ewc_priorloss']\n",
    "    # 要运行的Shell命令\n",
    "for data_dir_name in DEBUG_DIRS:\n",
    "    _, class_name = parse_templates_class_name(data_dir_name)\n",
    "\n",
    "    dir2_template ='/data/zhicai/code/Text-regularized-customization/outputs/debug/sample/{}/{}/decay_lr_5e-4_gas_4/lora_weight_s2000/class'\n",
    "                \n",
    "    dir1_template = '/data/zhicai/code/Text-regularized-customization/dataset/sample/{}'\n",
    "    for experiment_type in experiment_types:\n",
    "        dir2 = dir2_template.format(data_dir_name,experiment_type)    \n",
    "        dir1 = dir1_template.format(class_name)\n",
    "        shell_command = f\"python -m pytorch_fid {dir1} {dir2} --device cuda:2\"\n",
    "\n",
    "        # 使用subprocess运行Shell命令\n",
    "        result = subprocess.run(shell_command, shell=True, stdout=subprocess.PIPE, stderr=subprocess.PIPE, text=True)\n",
    "\n",
    "        # 打印命令的标准输出\n",
    "        print(f\"Command Output for {data_dir_name} and {experiment_type}:\")\n",
    "        print(result.stdout)\n",
    "\n",
    "    # # 打印命令的标准错误输出\n",
    "    # print(\"Command Error:\")\n",
    "    # print(result.stderr)\n",
    "\n",
    "    # 打印命令的返回值\n",
    "    # print(\"Exit Code:\", result.returncode)\n"
   ]
  },
  {
   "cell_type": "code",
   "execution_count": 6,
   "metadata": {},
   "outputs": [
    {
     "name": "stdout",
     "output_type": "stream",
     "text": [
      "Command Output:\n",
      "FID:  190.58368654744365\n",
      "\n"
     ]
    }
   ],
   "source": [
    "import subprocess\n",
    "import sys\n",
    "import os\n",
    "sys.path.append('/data/zhicai/code/Text-regularized-customization/')\n",
    "from base.utils import parse_templates_class_name\n",
    "sys.path.append(os.getcwd())\n",
    "\n",
    "# 要运行的Shell命令\n",
    "data_dir_name = 'robot_toy'\n",
    "_, class_name = parse_templates_class_name(data_dir_name)\n",
    "\n",
    "dir2_list =['/data/zhicai/code/Text-regularized-customization/outputs/sample/{}/shareTI_text_0.01/decay_lr_5e-4_gas_4/lora_weight_s2000',]\n",
    "dir1 = '/data/zhicai/code/Text-regularized-customization/dataset/sample/{}'\n",
    "for dir2 in dir2_list:\n",
    "    dir2 = dir2.format(data_dir_name)    \n",
    "    dir1 = dir1.format(class_name)\n",
    "    shell_command = f\"python -m pytorch_fid {dir1} {dir2} --device cuda:2\"\n",
    "\n",
    "    # 使用subprocess运行Shell命令\n",
    "    result = subprocess.run(shell_command, shell=True, stdout=subprocess.PIPE, stderr=subprocess.PIPE, text=True)\n",
    "\n",
    "    # 打印命令的标准输出\n",
    "    print(\"Command Output:\")\n",
    "    print(result.stdout)\n",
    "\n",
    "    # # 打印命令的标准错误输出\n",
    "    # print(\"Command Error:\")\n",
    "    # print(result.stderr)\n",
    "\n",
    "    # 打印命令的返回值\n",
    "    # print(\"Exit Code:\", result.returncode)\n",
    "\n",
    "\n",
    "\n"
   ]
  },
  {
   "cell_type": "code",
   "execution_count": 5,
   "metadata": {},
   "outputs": [
    {
     "data": {
      "text/plain": [
       "'outputs/debug/checkpoints/'"
      ]
     },
     "execution_count": 5,
     "metadata": {},
     "output_type": "execute_result"
    }
   ],
   "source": [
    "debug = True\n",
    "f\"{'outputs/debug/' if debug else 'outputs'}checkpoints/\""
   ]
  },
  {
   "cell_type": "code",
   "execution_count": null,
   "metadata": {},
   "outputs": [],
   "source": []
  }
 ],
 "metadata": {
  "kernelspec": {
   "display_name": "ldm",
   "language": "python",
   "name": "python3"
  },
  "language_info": {
   "codemirror_mode": {
    "name": "ipython",
    "version": 3
   },
   "file_extension": ".py",
   "mimetype": "text/x-python",
   "name": "python",
   "nbconvert_exporter": "python",
   "pygments_lexer": "ipython3",
   "version": "3.8.13"
  },
  "orig_nbformat": 4
 },
 "nbformat": 4,
 "nbformat_minor": 2
}
